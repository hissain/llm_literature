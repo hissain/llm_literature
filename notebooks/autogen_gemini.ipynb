{
 "cells": [
  {
   "cell_type": "code",
   "execution_count": 2,
   "metadata": {},
   "outputs": [
    {
     "name": "stdout",
     "output_type": "stream",
     "text": [
      "---------- user ----------\n",
      "Write a literature review on no-code tools for building multi-agent AI systems\n",
      "---------- Report_Agent ----------\n",
      "## A Literature Review on No-Code Tools for Building Multi-Agent AI Systems\n",
      "\n",
      "Multi-agent systems (MAS) offer a powerful approach to tackling complex problems by distributing tasks among autonomous agents that interact and collaborate. However, developing MAS traditionally requires specialized programming skills and in-depth knowledge of agent architectures, communication protocols, and coordination mechanisms.  This barrier to entry has spurred interest in no-code/low-code platforms that democratize MAS development, allowing users without extensive coding expertise to build and deploy agent-based solutions.  While still a nascent field, a growing body of research and development focuses on creating accessible tools and exploring the potential of no-code MAS across various domains.\n",
      "\n",
      "One prominent research direction involves visual programming environments that enable users to design agent behaviors and interactions through drag-and-drop interfaces and graphical representations.  Platforms like NetLogo (Wilensky, 1999) have been used extensively for agent-based modeling and simulation, though they focus primarily on homogeneous agents and simplified interaction rules.  More recent work explores the adaptation of visual programming for heterogeneous MAS with complex communication protocols (e.g., using platforms like Repast Simphony (North et al., 2013)). These platforms often provide pre-built agent templates and behavior modules, simplifying the development process and allowing users to focus on the high-level logic of their MAS.\n",
      "\n",
      "Another emerging area focuses on web-based platforms that allow users to create and deploy MAS without any coding.  These platforms typically offer a user-friendly interface for defining agent types, their attributes, and the rules governing their interactions. Some platforms even leverage cloud computing infrastructure to scale MAS simulations and deployments (e.g., like the MASON Cloud platform discussed by Luke et al., 2004 although not strictly no-code it demonstrates cloud integration relevant to future no-code platforms). While these web-based tools simplify the technical aspects of MAS development, they also pose challenges in terms of flexibility and customization compared to code-based approaches.\n",
      "\n",
      "The application of no-code MAS tools is also being explored across diverse domains.  In education, platforms like AgentSheets (Repenning, 2000) and StarLogo TNG (Colella et al., 2007) have been used to teach computational thinking and agent-based modeling concepts.  In research, no-code tools are being utilized to model complex systems in fields like biology, economics, and social sciences.  For example, platforms like GAMA (Taillandier et al., 2019) enable researchers to build and analyze spatially explicit agent-based models.  Furthermore, the potential of no-code MAS for developing real-world applications, such as traffic management and smart grids, is being actively investigated.\n",
      "\n",
      "Despite the growing interest, several challenges remain in the development and adoption of no-code MAS tools.  One key challenge is achieving the right balance between ease of use and expressiveness.  Simplified interfaces may restrict the types of MAS that can be created, while overly complex tools might defeat the purpose of a no-code approach.  Another challenge is the need for robust debugging and validation tools for no-code MAS.  As these systems become more complex, ensuring their correctness and reliability becomes crucial.  Furthermore, integrating no-code MAS with existing data sources and systems can be a significant hurdle.\n",
      "\n",
      "In conclusion, no-code tools for building multi-agent AI systems represent a promising direction towards democratizing MAS development and enabling wider adoption across diverse domains. While still in its early stages, the field is rapidly evolving, with ongoing research and development addressing key challenges and expanding the capabilities of these tools. Further investigation is needed to refine the balance between usability and expressiveness, develop robust debugging and validation techniques, and explore seamless integration with existing data and systems.  This continued advancement will pave the way for broader access to the power of multi-agent systems and unlock their potential for solving complex real-world problems.\n",
      "\n",
      "\n",
      "**References**\n",
      "\n",
      "Colella, V., Klopfer, E., & Resnick, M. (2007).  Adventures in Modeling: Exploring Complex, Dynamic Systems with StarLogo TNG. Teachers College Press.\n",
      "\n",
      "Luke, S., Cioffi-Revilla, C., Panait, L., Sullivan, K., & Balan, G. (2004). MASON: A new multi-agent simulation toolkit. *Proceedings of the Agent 2004 Conference on Social Dynamics: Interaction, Reflexivity, and Emergence*, 517-528.\n",
      "\n",
      "North, M. J., Collier, N. T., Ozik, J., Tatara, E. R., Macal, C. M., Bragen, M., & Sydelko, P. (2013). Complex adaptive systems modeling with Repast Simphony. *Complex Adaptive Systems Modeling*, *1*(1), 3.\n",
      "\n",
      "Repenning, A. (2000). AgentSheets: End-user programmable simulations. *Journal of Artificial Societies and Social Simulation*, *3*(3).\n",
      "\n",
      "Taillandier, P., Gaudou, B., Vo, D. A., Drogo, N., Amouroux, E., & Drogoul, A. (2019). Building, composing and experimenting complex spatial models with the GAMA platform. *GeoInformatica*, *23*, 299-322.\n",
      "\n",
      "Wilensky, U. (1999). NetLogo. http://ccl.northwestern.edu/netlogo/. Center for Connected Learning and Computer-Based Modeling, Northwestern University. Evanston, IL.\n",
      "\n",
      "TERMINATE\n",
      "\n"
     ]
    },
    {
     "data": {
      "text/plain": [
       "TaskResult(messages=[TextMessage(source='user', models_usage=None, content='Write a literature review on no-code tools for building multi-agent AI systems', type='TextMessage'), TextMessage(source='Report_Agent', models_usage=RequestUsage(prompt_tokens=68, completion_tokens=1163), content='## A Literature Review on No-Code Tools for Building Multi-Agent AI Systems\\n\\nMulti-agent systems (MAS) offer a powerful approach to tackling complex problems by distributing tasks among autonomous agents that interact and collaborate. However, developing MAS traditionally requires specialized programming skills and in-depth knowledge of agent architectures, communication protocols, and coordination mechanisms.  This barrier to entry has spurred interest in no-code/low-code platforms that democratize MAS development, allowing users without extensive coding expertise to build and deploy agent-based solutions.  While still a nascent field, a growing body of research and development focuses on creating accessible tools and exploring the potential of no-code MAS across various domains.\\n\\nOne prominent research direction involves visual programming environments that enable users to design agent behaviors and interactions through drag-and-drop interfaces and graphical representations.  Platforms like NetLogo (Wilensky, 1999) have been used extensively for agent-based modeling and simulation, though they focus primarily on homogeneous agents and simplified interaction rules.  More recent work explores the adaptation of visual programming for heterogeneous MAS with complex communication protocols (e.g., using platforms like Repast Simphony (North et al., 2013)). These platforms often provide pre-built agent templates and behavior modules, simplifying the development process and allowing users to focus on the high-level logic of their MAS.\\n\\nAnother emerging area focuses on web-based platforms that allow users to create and deploy MAS without any coding.  These platforms typically offer a user-friendly interface for defining agent types, their attributes, and the rules governing their interactions. Some platforms even leverage cloud computing infrastructure to scale MAS simulations and deployments (e.g., like the MASON Cloud platform discussed by Luke et al., 2004 although not strictly no-code it demonstrates cloud integration relevant to future no-code platforms). While these web-based tools simplify the technical aspects of MAS development, they also pose challenges in terms of flexibility and customization compared to code-based approaches.\\n\\nThe application of no-code MAS tools is also being explored across diverse domains.  In education, platforms like AgentSheets (Repenning, 2000) and StarLogo TNG (Colella et al., 2007) have been used to teach computational thinking and agent-based modeling concepts.  In research, no-code tools are being utilized to model complex systems in fields like biology, economics, and social sciences.  For example, platforms like GAMA (Taillandier et al., 2019) enable researchers to build and analyze spatially explicit agent-based models.  Furthermore, the potential of no-code MAS for developing real-world applications, such as traffic management and smart grids, is being actively investigated.\\n\\nDespite the growing interest, several challenges remain in the development and adoption of no-code MAS tools.  One key challenge is achieving the right balance between ease of use and expressiveness.  Simplified interfaces may restrict the types of MAS that can be created, while overly complex tools might defeat the purpose of a no-code approach.  Another challenge is the need for robust debugging and validation tools for no-code MAS.  As these systems become more complex, ensuring their correctness and reliability becomes crucial.  Furthermore, integrating no-code MAS with existing data sources and systems can be a significant hurdle.\\n\\nIn conclusion, no-code tools for building multi-agent AI systems represent a promising direction towards democratizing MAS development and enabling wider adoption across diverse domains. While still in its early stages, the field is rapidly evolving, with ongoing research and development addressing key challenges and expanding the capabilities of these tools. Further investigation is needed to refine the balance between usability and expressiveness, develop robust debugging and validation techniques, and explore seamless integration with existing data and systems.  This continued advancement will pave the way for broader access to the power of multi-agent systems and unlock their potential for solving complex real-world problems.\\n\\n\\n**References**\\n\\nColella, V., Klopfer, E., & Resnick, M. (2007).  Adventures in Modeling: Exploring Complex, Dynamic Systems with StarLogo TNG. Teachers College Press.\\n\\nLuke, S., Cioffi-Revilla, C., Panait, L., Sullivan, K., & Balan, G. (2004). MASON: A new multi-agent simulation toolkit. *Proceedings of the Agent 2004 Conference on Social Dynamics: Interaction, Reflexivity, and Emergence*, 517-528.\\n\\nNorth, M. J., Collier, N. T., Ozik, J., Tatara, E. R., Macal, C. M., Bragen, M., & Sydelko, P. (2013). Complex adaptive systems modeling with Repast Simphony. *Complex Adaptive Systems Modeling*, *1*(1), 3.\\n\\nRepenning, A. (2000). AgentSheets: End-user programmable simulations. *Journal of Artificial Societies and Social Simulation*, *3*(3).\\n\\nTaillandier, P., Gaudou, B., Vo, D. A., Drogo, N., Amouroux, E., & Drogoul, A. (2019). Building, composing and experimenting complex spatial models with the GAMA platform. *GeoInformatica*, *23*, 299-322.\\n\\nWilensky, U. (1999). NetLogo. http://ccl.northwestern.edu/netlogo/. Center for Connected Learning and Computer-Based Modeling, Northwestern University. Evanston, IL.\\n\\nTERMINATE\\n', type='TextMessage')], stop_reason=\"Text 'TERMINATE' mentioned\")"
      ]
     },
     "execution_count": 2,
     "metadata": {},
     "output_type": "execute_result"
    }
   ],
   "source": [
    "from dotenv import load_dotenv\n",
    "import os\n",
    "\n",
    "load_dotenv()\n",
    "\n",
    "from autogen_ext.models.openai import OpenAIChatCompletionClient\n",
    "\n",
    "# Configure the Gemini model client\n",
    "model_client = OpenAIChatCompletionClient(\n",
    "    model=\"gemini-1.5-pro\",\n",
    "    api_key=os.getenv(\"GEMINI_API_KEY\"),\n",
    "    api_type=\"google\",\n",
    "    model_info={\n",
    "        \"vision\": True,\n",
    "        \"function_calling\": True,\n",
    "        \"json_output\": True,\n",
    "        \"family\": \"unknown\",\n",
    "    },\n",
    ")\n",
    "\n",
    "\n",
    "from autogen_agentchat.agents import AssistantAgent\n",
    "\n",
    "report_agent_gemini = AssistantAgent(\n",
    "    name=\"Report_Agent\",\n",
    "    model_client=model_client,\n",
    "    description=\"Generate a report based on a given topic\",\n",
    "    system_message=(\n",
    "        \"You are a helpful assistant. Your task is to synthesize data extracted into a high-quality \"\n",
    "        \"literature review including CORRECT references. You MUST write a final report that is formatted \"\n",
    "        \"as a literature review with CORRECT references. Your response should end with the word 'TERMINATE'.\"\n",
    "    ),\n",
    ")\n",
    "\n",
    "\n",
    "from autogen_agentchat.teams import RoundRobinGroupChat\n",
    "from autogen_agentchat.conditions import TextMentionTermination\n",
    "\n",
    "termination = TextMentionTermination(\"TERMINATE\")\n",
    "team = RoundRobinGroupChat(\n",
    "    participants=[report_agent_gemini],\n",
    "    termination_condition=termination\n",
    ")\n",
    "\n",
    "\n",
    "from autogen_agentchat.ui import Console\n",
    "\n",
    "await Console(\n",
    "    team.run_stream(\n",
    "        task=\"Write a literature review on no-code tools for building multi-agent AI systems\",\n",
    "    )\n",
    ")\n"
   ]
  }
 ],
 "metadata": {
  "kernelspec": {
   "display_name": ".venv",
   "language": "python",
   "name": "python3"
  },
  "language_info": {
   "codemirror_mode": {
    "name": "ipython",
    "version": 3
   },
   "file_extension": ".py",
   "mimetype": "text/x-python",
   "name": "python",
   "nbconvert_exporter": "python",
   "pygments_lexer": "ipython3",
   "version": "3.11.0"
  }
 },
 "nbformat": 4,
 "nbformat_minor": 2
}
